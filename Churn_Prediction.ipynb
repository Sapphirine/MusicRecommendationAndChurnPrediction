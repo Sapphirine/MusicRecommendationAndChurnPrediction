{
 "cells": [
  {
   "cell_type": "code",
   "execution_count": 2,
   "metadata": {},
   "outputs": [
    {
     "name": "stdout",
     "output_type": "stream",
     "text": [
      "members_v3.csv\n",
      "sample_submission_zero.csv\n",
      "train.csv\n",
      "transactions.csv\n",
      "user_logs.csv\n",
      "\n",
      "('This kernel has :', 8, 'cores')\n",
      "(' 6769474 /Users/yiming/Documents/BigData/final_project/churn_prediction/input/members_v3.csv\\n', '')\n",
      "('The file :', u'members_v3.csv', 'has :', '6769474', 'rows')\n",
      "('  970961 /Users/yiming/Documents/BigData/final_project/churn_prediction/input/sample_submission_zero.csv\\n', '')\n",
      "('The file :', u'sample_submission_zero.csv', 'has :', '970961', 'rows')\n",
      "('  992932 /Users/yiming/Documents/BigData/final_project/churn_prediction/input/train.csv\\n', '')\n",
      "('The file :', u'train.csv', 'has :', '992932', 'rows')\n",
      "(' 21547747 /Users/yiming/Documents/BigData/final_project/churn_prediction/input/transactions.csv\\n', '')\n",
      "('The file :', u'transactions.csv', 'has :', '21547747', 'rows')\n",
      "(' 392106544 /Users/yiming/Documents/BigData/final_project/churn_prediction/input/user_logs.csv\\n', '')\n",
      "('The file :', u'user_logs.csv', 'has :', '392106544', 'rows')\n",
      "('', 'wc: /Users/yiming/Documents/BigData/final_project/churn_prediction/input/: read: Is a directory\\n')\n"
     ]
    }
   ],
   "source": [
    "#Load the required packages\n",
    "import numpy as np\n",
    "import pandas as pd\n",
    "import multiprocessing as mp\n",
    "import time\n",
    "\n",
    "from subprocess import check_output\n",
    "import subprocess\n",
    "files=check_output([\"ls\", \"/Users/yiming/Documents/BigData/final_project/churn_prediction/input\"]).decode(\"utf8\")\n",
    "print(files)\n",
    "#check the number of cores\n",
    "num_cores = mp.cpu_count()\n",
    "print(\"This kernel has :\",num_cores,\"cores\")\n",
    "#Check the number of row of each file\n",
    "for file in files.split(\"\\n\"):\n",
    "    path='/Users/yiming/Documents/BigData/final_project/churn_prediction/input/'+file\n",
    "    popenobj=subprocess.Popen(['wc', '-l', path], stdout=subprocess.PIPE, \n",
    "                                              stderr=subprocess.PIPE)\n",
    "    result,error= popenobj.communicate()\n",
    "    print(result,error)\n",
    "    if file != '':\n",
    "        print(\"The file :\",file,\"has :\",result.strip().split()[0],\"rows\")\n",
    "\n"
   ]
  },
  {
   "cell_type": "code",
   "execution_count": 4,
   "metadata": {},
   "outputs": [
    {
     "name": "stdout",
     "output_type": "stream",
     "text": [
      "202510\n",
      "('Round ', 0, 'took 1.747631073 seconds')\n",
      "407351\n",
      "('Round ', 1, 'took 3.42227315903 seconds')\n"
     ]
    }
   ],
   "source": [
    "# testing out the funciton for one iteration\n",
    "import time\n",
    "size=1e6   # 1 million\n",
    "user_log_chunks = pd.read_csv('/Users/yiming/Documents/BigData/final_project/churn_prediction/input/user_logs.csv',chunksize=size,index_col=['msno'])\n",
    "start_time = time.time()\n",
    "for i,user_log_chunk in enumerate(user_log_chunks):\n",
    "    #print(user_log_chunk.head())\n",
    "    grouped_object=user_log_chunk.groupby(user_log_chunk.index,sort=False) # not sorting results in a minor speedup\n",
    "    func = {'date':['min','max'], \n",
    "           'num_25':['sum'],'num_50':['sum'],\n",
    "           'num_75':['sum'],'num_985':['sum'],\n",
    "           'num_100':['sum'],'num_unq':['sum'],'total_secs':['sum']}\n",
    "    if(i==0):  # for the fiest run create the result \n",
    "        result=grouped_object.agg(func)\n",
    "        print(len(result))\n",
    "        print(\"Round \",i,\"took %s seconds\" % (time.time() - start_time))\n",
    "    else:\n",
    "        result=result.append(grouped_object.agg(func))\n",
    "        print(len(result))\n",
    "        print(\"Round \",i,\"took %s seconds\" % (time.time() - start_time))\n",
    "        break"
   ]
  },
  {
   "cell_type": "code",
   "execution_count": 5,
   "metadata": {},
   "outputs": [
    {
     "name": "stdout",
     "output_type": "stream",
     "text": [
      "done\n"
     ]
    }
   ],
   "source": [
    "def process_user_log(chunk):\n",
    "    grouped_object=chunk.groupby(chunk.index,sort=False) # not sorting results in a minor speedup\n",
    "    func = {'date':['min','max','count'], \n",
    "           'num_25':['sum'],'num_50':['sum'],\n",
    "           'num_75':['sum'],'num_985':['sum'],\n",
    "           'num_100':['sum'],'num_unq':['sum'],'total_secs':['sum']}\n",
    "    answer=grouped_object.agg(func)\n",
    "    return answer\n",
    "print(\"done\")"
   ]
  },
  {
   "cell_type": "code",
   "execution_count": 8,
   "metadata": {},
   "outputs": [
    {
     "name": "stdout",
     "output_type": "stream",
     "text": [
      "('Loop ', 0, 'took 85.5681848526 seconds')\n",
      "('Loop ', 1, 'took 173.99387598 seconds')\n",
      "('Loop ', 2, 'took 265.079565048 seconds')\n",
      "('Loop ', 3, 'took 358.512262821 seconds')\n",
      "('Loop ', 4, 'took 454.040303946 seconds')\n",
      "('Loop ', 5, 'took 547.411473036 seconds')\n",
      "('Loop ', 6, 'took 642.989202976 seconds')\n",
      "('Loop ', 7, 'took 742.241251945 seconds')\n",
      "('Loop ', 8, 'took 845.753796816 seconds')\n",
      "('Loop ', 9, 'took 935.215692997 seconds')\n",
      "done!\n"
     ]
    }
   ],
   "source": [
    "size=4e7 # 40 million\n",
    "reader = pd.read_csv('/Users/yiming/Documents/BigData/final_project/churn_prediction/input/user_logs.csv',chunksize=size,index_col=['msno'])\n",
    "start_time = time.time()\n",
    "for i in range(10):\n",
    "    user_log_chunk=next(reader)\n",
    "    if(i==0):\n",
    "        result=process_user_log(user_log_chunk)\n",
    "        print(\"Loop \",i,\"took %s seconds\" % (time.time() - start_time))\n",
    "    else:\n",
    "        result=result.append(process_user_log(user_log_chunk))\n",
    "        print(\"Loop \",i,\"took %s seconds\" % (time.time() - start_time))\n",
    "    del(user_log_chunk)   \n",
    "    \n",
    "print \"done!\""
   ]
  },
  {
   "cell_type": "code",
   "execution_count": 9,
   "metadata": {},
   "outputs": [
    {
     "name": "stdout",
     "output_type": "stream",
     "text": [
      "19166671\n",
      "5234111\n"
     ]
    }
   ],
   "source": [
    "print(len(result))\n",
    "check=result.index.unique()\n",
    "print(len(check))"
   ]
  },
  {
   "cell_type": "code",
   "execution_count": 10,
   "metadata": {},
   "outputs": [
    {
     "data": {
      "text/plain": [
       "Index([u'num_985_sum', u'num_50_sum', u'total_secs_sum', u'date_min',\n",
       "       u'date_max', u'date_count', u'num_unq_sum', u'num_100_sum',\n",
       "       u'num_75_sum', u'num_25_sum'],\n",
       "      dtype='object')"
      ]
     },
     "execution_count": 10,
     "metadata": {},
     "output_type": "execute_result"
    }
   ],
   "source": [
    "#result.columns.values\n",
    "result.columns = ['_'.join(col).strip() for col in result.columns.values]\n",
    "result.columns"
   ]
  },
  {
   "cell_type": "code",
   "execution_count": 11,
   "metadata": {},
   "outputs": [
    {
     "name": "stdout",
     "output_type": "stream",
     "text": [
      "5234111\n",
      "                                              num_75_sum  date_min  \\\n",
      "msno                                                                 \n",
      "+++4vcS9aMH7KWdfh5git6nA5fC5jjisd5H/NcM++WM=           0  20150427   \n",
      "+++EI4HgyhgcJHIPXk/VRP7bt17+2joG39T6oEfJ+tc=           0  20160420   \n",
      "+++FOrTS7ab3tIgIh8eWwX4FqRv8w/FoiOuyXsFvphY=          14  20160909   \n",
      "+++IZseRRiQS9aaSkH6cMYU6bGDcxUieAi/tH67sC5s=         227  20150101   \n",
      "+++TipL0Kt3JvgNE9ahuJ8o+drJAnQINtxD4c5GePXI=           2  20151230   \n",
      "\n",
      "                                              date_count  num_unq_sum  \\\n",
      "msno                                                                    \n",
      "+++4vcS9aMH7KWdfh5git6nA5fC5jjisd5H/NcM++WM=           1            2   \n",
      "+++EI4HgyhgcJHIPXk/VRP7bt17+2joG39T6oEfJ+tc=           1            1   \n",
      "+++FOrTS7ab3tIgIh8eWwX4FqRv8w/FoiOuyXsFvphY=           3          179   \n",
      "+++IZseRRiQS9aaSkH6cMYU6bGDcxUieAi/tH67sC5s=          10        53604   \n",
      "+++TipL0Kt3JvgNE9ahuJ8o+drJAnQINtxD4c5GePXI=           1           22   \n",
      "\n",
      "                                              total_secs_sum  num_50_sum  \\\n",
      "msno                                                                       \n",
      "+++4vcS9aMH7KWdfh5git6nA5fC5jjisd5H/NcM++WM=    9.741100e+01           1   \n",
      "+++EI4HgyhgcJHIPXk/VRP7bt17+2joG39T6oEfJ+tc=    5.686800e+01           0   \n",
      "+++FOrTS7ab3tIgIh8eWwX4FqRv8w/FoiOuyXsFvphY=    4.999677e+04          12   \n",
      "+++IZseRRiQS9aaSkH6cMYU6bGDcxUieAi/tH67sC5s=    1.466484e+07         249   \n",
      "+++TipL0Kt3JvgNE9ahuJ8o+drJAnQINtxD4c5GePXI=    3.661527e+03           3   \n",
      "\n",
      "                                              num_100_sum  num_25_sum  \\\n",
      "msno                                                                    \n",
      "+++4vcS9aMH7KWdfh5git6nA5fC5jjisd5H/NcM++WM=            0           1   \n",
      "+++EI4HgyhgcJHIPXk/VRP7bt17+2joG39T6oEfJ+tc=            0           2   \n",
      "+++FOrTS7ab3tIgIh8eWwX4FqRv8w/FoiOuyXsFvphY=          171          60   \n",
      "+++IZseRRiQS9aaSkH6cMYU6bGDcxUieAi/tH67sC5s=        59354         817   \n",
      "+++TipL0Kt3JvgNE9ahuJ8o+drJAnQINtxD4c5GePXI=           14           3   \n",
      "\n",
      "                                              num_985_sum  date_max  \n",
      "msno                                                                 \n",
      "+++4vcS9aMH7KWdfh5git6nA5fC5jjisd5H/NcM++WM=            0  20150427  \n",
      "+++EI4HgyhgcJHIPXk/VRP7bt17+2joG39T6oEfJ+tc=            0  20160420  \n",
      "+++FOrTS7ab3tIgIh8eWwX4FqRv8w/FoiOuyXsFvphY=            7  20160915  \n",
      "+++IZseRRiQS9aaSkH6cMYU6bGDcxUieAi/tH67sC5s=          195  20170227  \n",
      "+++TipL0Kt3JvgNE9ahuJ8o+drJAnQINtxD4c5GePXI=            1  20151230  \n"
     ]
    }
   ],
   "source": [
    "result.head()\n",
    "func = {'date_min':['min'],'date_max':['max'],'date_count':['count'] ,\n",
    "           'num_25_sum':['sum'],'num_50_sum':['sum'],\n",
    "           'num_75_sum':['sum'],'num_985_sum':['sum'],\n",
    "           'num_100_sum':['sum'],'num_unq_sum':['sum'],'total_secs_sum':['sum']}\n",
    "processed_user_log=result.groupby(result.index).agg(func)\n",
    "print(len(processed_user_log))\n",
    "processed_user_log.columns = processed_user_log.columns.get_level_values(0)\n",
    "print(processed_user_log.head())"
   ]
  },
  {
   "cell_type": "code",
   "execution_count": 12,
   "metadata": {},
   "outputs": [
    {
     "data": {
      "text/html": [
       "<div>\n",
       "<table border=\"1\" class=\"dataframe\">\n",
       "  <thead>\n",
       "    <tr style=\"text-align: right;\">\n",
       "      <th></th>\n",
       "      <th>num_75_sum</th>\n",
       "      <th>date_min</th>\n",
       "      <th>date_count</th>\n",
       "      <th>num_unq_sum</th>\n",
       "      <th>total_secs_sum</th>\n",
       "      <th>num_50_sum</th>\n",
       "      <th>num_100_sum</th>\n",
       "      <th>num_25_sum</th>\n",
       "      <th>num_985_sum</th>\n",
       "      <th>date_max</th>\n",
       "    </tr>\n",
       "    <tr>\n",
       "      <th>msno</th>\n",
       "      <th></th>\n",
       "      <th></th>\n",
       "      <th></th>\n",
       "      <th></th>\n",
       "      <th></th>\n",
       "      <th></th>\n",
       "      <th></th>\n",
       "      <th></th>\n",
       "      <th></th>\n",
       "      <th></th>\n",
       "    </tr>\n",
       "  </thead>\n",
       "  <tbody>\n",
       "    <tr>\n",
       "      <th>+++4vcS9aMH7KWdfh5git6nA5fC5jjisd5H/NcM++WM=</th>\n",
       "      <td>0</td>\n",
       "      <td>20150427</td>\n",
       "      <td>1</td>\n",
       "      <td>2</td>\n",
       "      <td>9.741100e+01</td>\n",
       "      <td>1</td>\n",
       "      <td>0</td>\n",
       "      <td>1</td>\n",
       "      <td>0</td>\n",
       "      <td>20150427</td>\n",
       "    </tr>\n",
       "    <tr>\n",
       "      <th>+++EI4HgyhgcJHIPXk/VRP7bt17+2joG39T6oEfJ+tc=</th>\n",
       "      <td>0</td>\n",
       "      <td>20160420</td>\n",
       "      <td>1</td>\n",
       "      <td>1</td>\n",
       "      <td>5.686800e+01</td>\n",
       "      <td>0</td>\n",
       "      <td>0</td>\n",
       "      <td>2</td>\n",
       "      <td>0</td>\n",
       "      <td>20160420</td>\n",
       "    </tr>\n",
       "    <tr>\n",
       "      <th>+++FOrTS7ab3tIgIh8eWwX4FqRv8w/FoiOuyXsFvphY=</th>\n",
       "      <td>14</td>\n",
       "      <td>20160909</td>\n",
       "      <td>3</td>\n",
       "      <td>179</td>\n",
       "      <td>4.999677e+04</td>\n",
       "      <td>12</td>\n",
       "      <td>171</td>\n",
       "      <td>60</td>\n",
       "      <td>7</td>\n",
       "      <td>20160915</td>\n",
       "    </tr>\n",
       "    <tr>\n",
       "      <th>+++IZseRRiQS9aaSkH6cMYU6bGDcxUieAi/tH67sC5s=</th>\n",
       "      <td>227</td>\n",
       "      <td>20150101</td>\n",
       "      <td>10</td>\n",
       "      <td>53604</td>\n",
       "      <td>1.466484e+07</td>\n",
       "      <td>249</td>\n",
       "      <td>59354</td>\n",
       "      <td>817</td>\n",
       "      <td>195</td>\n",
       "      <td>20170227</td>\n",
       "    </tr>\n",
       "    <tr>\n",
       "      <th>+++TipL0Kt3JvgNE9ahuJ8o+drJAnQINtxD4c5GePXI=</th>\n",
       "      <td>2</td>\n",
       "      <td>20151230</td>\n",
       "      <td>1</td>\n",
       "      <td>22</td>\n",
       "      <td>3.661527e+03</td>\n",
       "      <td>3</td>\n",
       "      <td>14</td>\n",
       "      <td>3</td>\n",
       "      <td>1</td>\n",
       "      <td>20151230</td>\n",
       "    </tr>\n",
       "  </tbody>\n",
       "</table>\n",
       "</div>"
      ],
      "text/plain": [
       "                                              num_75_sum  date_min  \\\n",
       "msno                                                                 \n",
       "+++4vcS9aMH7KWdfh5git6nA5fC5jjisd5H/NcM++WM=           0  20150427   \n",
       "+++EI4HgyhgcJHIPXk/VRP7bt17+2joG39T6oEfJ+tc=           0  20160420   \n",
       "+++FOrTS7ab3tIgIh8eWwX4FqRv8w/FoiOuyXsFvphY=          14  20160909   \n",
       "+++IZseRRiQS9aaSkH6cMYU6bGDcxUieAi/tH67sC5s=         227  20150101   \n",
       "+++TipL0Kt3JvgNE9ahuJ8o+drJAnQINtxD4c5GePXI=           2  20151230   \n",
       "\n",
       "                                              date_count  num_unq_sum  \\\n",
       "msno                                                                    \n",
       "+++4vcS9aMH7KWdfh5git6nA5fC5jjisd5H/NcM++WM=           1            2   \n",
       "+++EI4HgyhgcJHIPXk/VRP7bt17+2joG39T6oEfJ+tc=           1            1   \n",
       "+++FOrTS7ab3tIgIh8eWwX4FqRv8w/FoiOuyXsFvphY=           3          179   \n",
       "+++IZseRRiQS9aaSkH6cMYU6bGDcxUieAi/tH67sC5s=          10        53604   \n",
       "+++TipL0Kt3JvgNE9ahuJ8o+drJAnQINtxD4c5GePXI=           1           22   \n",
       "\n",
       "                                              total_secs_sum  num_50_sum  \\\n",
       "msno                                                                       \n",
       "+++4vcS9aMH7KWdfh5git6nA5fC5jjisd5H/NcM++WM=    9.741100e+01           1   \n",
       "+++EI4HgyhgcJHIPXk/VRP7bt17+2joG39T6oEfJ+tc=    5.686800e+01           0   \n",
       "+++FOrTS7ab3tIgIh8eWwX4FqRv8w/FoiOuyXsFvphY=    4.999677e+04          12   \n",
       "+++IZseRRiQS9aaSkH6cMYU6bGDcxUieAi/tH67sC5s=    1.466484e+07         249   \n",
       "+++TipL0Kt3JvgNE9ahuJ8o+drJAnQINtxD4c5GePXI=    3.661527e+03           3   \n",
       "\n",
       "                                              num_100_sum  num_25_sum  \\\n",
       "msno                                                                    \n",
       "+++4vcS9aMH7KWdfh5git6nA5fC5jjisd5H/NcM++WM=            0           1   \n",
       "+++EI4HgyhgcJHIPXk/VRP7bt17+2joG39T6oEfJ+tc=            0           2   \n",
       "+++FOrTS7ab3tIgIh8eWwX4FqRv8w/FoiOuyXsFvphY=          171          60   \n",
       "+++IZseRRiQS9aaSkH6cMYU6bGDcxUieAi/tH67sC5s=        59354         817   \n",
       "+++TipL0Kt3JvgNE9ahuJ8o+drJAnQINtxD4c5GePXI=           14           3   \n",
       "\n",
       "                                              num_985_sum  date_max  \n",
       "msno                                                                 \n",
       "+++4vcS9aMH7KWdfh5git6nA5fC5jjisd5H/NcM++WM=            0  20150427  \n",
       "+++EI4HgyhgcJHIPXk/VRP7bt17+2joG39T6oEfJ+tc=            0  20160420  \n",
       "+++FOrTS7ab3tIgIh8eWwX4FqRv8w/FoiOuyXsFvphY=            7  20160915  \n",
       "+++IZseRRiQS9aaSkH6cMYU6bGDcxUieAi/tH67sC5s=          195  20170227  \n",
       "+++TipL0Kt3JvgNE9ahuJ8o+drJAnQINtxD4c5GePXI=            1  20151230  "
      ]
     },
     "execution_count": 12,
     "metadata": {},
     "output_type": "execute_result"
    }
   ],
   "source": [
    "processed_user_log.head()"
   ]
  },
  {
   "cell_type": "code",
   "execution_count": 8,
   "metadata": {},
   "outputs": [
    {
     "name": "stdout",
     "output_type": "stream",
     "text": [
      "<type 'numpy.ndarray'>\n"
     ]
    }
   ],
   "source": [
    "# this function did not work because apparently only lists can be passed back from a function through the \n",
    "# multiprocessing package \n",
    "# If we use multiple cores the process can be 16 times faster\n",
    "\n",
    "# create as many processes as there are CPUs on your machine\n",
    "# if __name__ == '__main__':\n",
    "#     size=1000000\n",
    "#     parser = pd.read_csv('../input/user_logs.csv',chunksize=size,index_col=['msno'])\n",
    "#     num_processes = mp.cpu_count()\n",
    "#     pool=mp.Pool(processes=num_processes)\n",
    "#     start_time = time.time()\n",
    "#     list_of_ans=[]\n",
    "#     def collect_results(result):\n",
    "#         list_of_ans.extend(result)\n",
    "#         print(done)\n",
    "#     for i,df in enumerate(parser):\n",
    "#         print(\"starting at\",i,\" %s seconds\" % (time.time() - start_time))\n",
    "#         pool.map(process_user_log,df,callback=collect_results) \n",
    "#         \n",
    "#     print(\"action \",i,\"took %s seconds\" % (time.time() - start_time))\n",
    "#     pool.close()\n",
    "#     pool.join()"
   ]
  },
  {
   "cell_type": "code",
   "execution_count": 14,
   "metadata": {},
   "outputs": [
    {
     "name": "stdout",
     "output_type": "stream",
     "text": [
      "start\n",
      "end\n"
     ]
    }
   ],
   "source": [
    "print \"start\"\n",
    "processed_user_log.to_csv(\"processed_user_log.csv\")\n",
    "print \"end\""
   ]
  },
  {
   "cell_type": "code",
   "execution_count": null,
   "metadata": {
    "collapsed": true
   },
   "outputs": [],
   "source": []
  }
 ],
 "metadata": {
  "kernelspec": {
   "display_name": "Python 2",
   "language": "python",
   "name": "python2"
  },
  "language_info": {
   "codemirror_mode": {
    "name": "ipython",
    "version": 2
   },
   "file_extension": ".py",
   "mimetype": "text/x-python",
   "name": "python",
   "nbconvert_exporter": "python",
   "pygments_lexer": "ipython2",
   "version": "2.7.13"
  }
 },
 "nbformat": 4,
 "nbformat_minor": 2
}
